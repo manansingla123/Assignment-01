{
  "nbformat": 4,
  "nbformat_minor": 0,
  "metadata": {
    "colab": {
      "provenance": [],
      "authorship_tag": "ABX9TyOVWnHwYLlEC4l8aATP5nMs",
      "include_colab_link": true
    },
    "kernelspec": {
      "name": "python3",
      "display_name": "Python 3"
    },
    "language_info": {
      "name": "python"
    }
  },
  "cells": [
    {
      "cell_type": "markdown",
      "metadata": {
        "id": "view-in-github",
        "colab_type": "text"
      },
      "source": [
        "<a href=\"https://colab.research.google.com/github/manansingla123/Assignment-01/blob/main/python_assignment.ipynb\" target=\"_parent\"><img src=\"https://colab.research.google.com/assets/colab-badge.svg\" alt=\"Open In Colab\"/></a>"
      ]
    },
    {
      "cell_type": "markdown",
      "source": [
        "# **Q1**"
      ],
      "metadata": {
        "id": "kOnTzcaNVerf"
      }
    },
    {
      "cell_type": "code",
      "source": [
        "L=[11,12,13,14]"
      ],
      "metadata": {
        "id": "TpASj58XWQiz"
      },
      "execution_count": null,
      "outputs": []
    },
    {
      "cell_type": "markdown",
      "source": [
        "Ans1.1"
      ],
      "metadata": {
        "id": "yaHC31J3WFE5"
      }
    },
    {
      "cell_type": "code",
      "source": [
        "L=[11,12,13,14]\n",
        "L.append(50)\n",
        "L.append(60)\n",
        "print(\"list after adding 50 and 60--> \",L)"
      ],
      "metadata": {
        "colab": {
          "base_uri": "https://localhost:8080/"
        },
        "id": "r-SxVXP0WKES",
        "outputId": "6a5e3211-8f7e-4312-98af-9ca6ed5d7840"
      },
      "execution_count": null,
      "outputs": [
        {
          "output_type": "stream",
          "name": "stdout",
          "text": [
            "list after adding 50 and 60-->  [11, 12, 13, 14, 50, 60]\n"
          ]
        }
      ]
    },
    {
      "cell_type": "markdown",
      "source": [
        "Ans1.2"
      ],
      "metadata": {
        "id": "V0rAlVhCXcaR"
      }
    },
    {
      "cell_type": "code",
      "source": [
        "L=[11,12,13,14]\n",
        "print(L)\n",
        "del L[0::2]\n",
        "print(\"after removing 11 and 13 from the list--> \",L)"
      ],
      "metadata": {
        "colab": {
          "base_uri": "https://localhost:8080/"
        },
        "id": "Vg3k7TQVXgI8",
        "outputId": "df155ada-03da-4ae5-fd72-d647ce943435"
      },
      "execution_count": null,
      "outputs": [
        {
          "output_type": "stream",
          "name": "stdout",
          "text": [
            "[11, 12, 13, 14]\n",
            "after removing 11 and 13 from the list-->  [12, 14]\n"
          ]
        }
      ]
    },
    {
      "cell_type": "markdown",
      "source": [
        "Ans1.3"
      ],
      "metadata": {
        "id": "d8Jt0Lx-aHbh"
      }
    },
    {
      "cell_type": "code",
      "source": [
        "L=[11,12,13,14]\n",
        "L.sort()\n",
        "print(\"list after sorting in asending order--> \",L)"
      ],
      "metadata": {
        "colab": {
          "base_uri": "https://localhost:8080/"
        },
        "id": "NitL5uoBaJty",
        "outputId": "f8d6e1cb-ab54-4409-bb5f-d50e44cbd232"
      },
      "execution_count": null,
      "outputs": [
        {
          "output_type": "stream",
          "name": "stdout",
          "text": [
            "list after sorting in asending order-->  [11, 12, 13, 14]\n"
          ]
        }
      ]
    },
    {
      "cell_type": "markdown",
      "source": [
        "Ans1.4"
      ],
      "metadata": {
        "id": "S8oNfPTVackh"
      }
    },
    {
      "cell_type": "code",
      "source": [
        "L=[11,12,13,14]\n",
        "L.sort(reverse=True)\n",
        "print(\"list after sorting in descending order--> \",L)\n"
      ],
      "metadata": {
        "colab": {
          "base_uri": "https://localhost:8080/"
        },
        "id": "w04SZkFDaeXa",
        "outputId": "557dafa6-0051-424d-983a-bd2ff07a5448"
      },
      "execution_count": null,
      "outputs": [
        {
          "output_type": "stream",
          "name": "stdout",
          "text": [
            "list after sorting in descending order-->  [14, 13, 12, 11]\n"
          ]
        }
      ]
    },
    {
      "cell_type": "markdown",
      "source": [
        "Ans1.5"
      ],
      "metadata": {
        "id": "erVSy_WgaydS"
      }
    },
    {
      "cell_type": "code",
      "source": [
        "L=[11,12,13,14]\n",
        "if 13 in L:\n",
        "  print(\"13 is present in the list L\")\n",
        "else:\n",
        "  print(\"13 is not present in the list L\")  "
      ],
      "metadata": {
        "colab": {
          "base_uri": "https://localhost:8080/"
        },
        "id": "xEFQ6d67bCDw",
        "outputId": "4c676321-e48e-46d1-fc57-155e1af8d1ba"
      },
      "execution_count": null,
      "outputs": [
        {
          "output_type": "stream",
          "name": "stdout",
          "text": [
            "13 is present in the list L\n"
          ]
        }
      ]
    },
    {
      "cell_type": "markdown",
      "source": [
        "Ans1.6"
      ],
      "metadata": {
        "id": "gHAdgNRLbo4N"
      }
    },
    {
      "cell_type": "code",
      "source": [
        "L=[11,12,13,14]\n",
        "count=0\n",
        "for i in L:\n",
        "  count+=1\n",
        "print(\"no of elements in list is--> \",count)  \n"
      ],
      "metadata": {
        "colab": {
          "base_uri": "https://localhost:8080/"
        },
        "id": "_UYcEeZgbrl6",
        "outputId": "7fe77e5c-4a99-4026-b949-2561a3bc33e6"
      },
      "execution_count": null,
      "outputs": [
        {
          "output_type": "stream",
          "name": "stdout",
          "text": [
            "no of elements in list is-->  4\n"
          ]
        }
      ]
    },
    {
      "cell_type": "markdown",
      "source": [
        "Ans1.7"
      ],
      "metadata": {
        "id": "-7Q-fBucctzK"
      }
    },
    {
      "cell_type": "code",
      "source": [
        "L=[11,12,13,14]\n",
        "sum=0\n",
        "for i in L:\n",
        "  sum=sum+i\n",
        "print(\"sum of all elements in list is--> \",sum)  "
      ],
      "metadata": {
        "colab": {
          "base_uri": "https://localhost:8080/"
        },
        "id": "eoPV_7mncvek",
        "outputId": "63064375-6a0d-46fe-edf5-6e6c38b2052a"
      },
      "execution_count": null,
      "outputs": [
        {
          "output_type": "stream",
          "name": "stdout",
          "text": [
            "sum of all elements in list is-->  50\n"
          ]
        }
      ]
    },
    {
      "cell_type": "markdown",
      "source": [
        "Ans1.8"
      ],
      "metadata": {
        "id": "gXbf4f6jdNzU"
      }
    },
    {
      "cell_type": "code",
      "source": [
        "L=[11,12,13,14]\n",
        "sum=0\n",
        "for i in L:\n",
        "  if(i%2!=0):\n",
        "    sum=sum+i\n",
        "print(\"sum of all odd numbers in the list is--> \",sum)      "
      ],
      "metadata": {
        "colab": {
          "base_uri": "https://localhost:8080/"
        },
        "id": "ypAx8hN0dPTP",
        "outputId": "b6e6e3be-ad1c-4485-9057-e30d2e648e27"
      },
      "execution_count": null,
      "outputs": [
        {
          "output_type": "stream",
          "name": "stdout",
          "text": [
            "sum of all odd numbers in the list is-->  24\n"
          ]
        }
      ]
    },
    {
      "cell_type": "markdown",
      "source": [
        "Ans1.9"
      ],
      "metadata": {
        "id": "WcY4CWrVeBeC"
      }
    },
    {
      "cell_type": "code",
      "source": [
        "L=[11,12,13,14]\n",
        "sum=0\n",
        "for i in L:\n",
        "  if(i%2==0):\n",
        "    sum=sum+i\n",
        "print(\"sum of all even numbers in the list is--> \",sum)  "
      ],
      "metadata": {
        "colab": {
          "base_uri": "https://localhost:8080/"
        },
        "id": "zxzQi3A7eC_S",
        "outputId": "f29baac1-7ffc-49dd-acaa-14be21c78348"
      },
      "execution_count": null,
      "outputs": [
        {
          "output_type": "stream",
          "name": "stdout",
          "text": [
            "sum of all even numbers in the list is-->  26\n"
          ]
        }
      ]
    },
    {
      "cell_type": "markdown",
      "source": [
        "Ans1.10"
      ],
      "metadata": {
        "id": "Tjc9Ps3JeL_3"
      }
    },
    {
      "cell_type": "code",
      "source": [
        "L=[11,12,13,14]\n",
        "sum=0\n",
        "for i in L:  \n",
        "  count=0\n",
        "  for j in range(1,i+1):\n",
        "    if(i%j==0):\n",
        "      count+=1\n",
        "  if(count==2):\n",
        "    sum=sum+i        \n",
        "print(\"sum of all prime numbers in the list is : \",sum)"
      ],
      "metadata": {
        "colab": {
          "base_uri": "https://localhost:8080/"
        },
        "id": "Whs6KhBbePf4",
        "outputId": "e938053e-7ae9-47a6-b7ec-0b79c9260e72"
      },
      "execution_count": 63,
      "outputs": [
        {
          "output_type": "stream",
          "name": "stdout",
          "text": [
            "sum of all prime numbers in the list is :  24\n"
          ]
        }
      ]
    },
    {
      "cell_type": "markdown",
      "source": [
        "Ans1.11"
      ],
      "metadata": {
        "id": "nnvAddTqo-kF"
      }
    },
    {
      "cell_type": "code",
      "source": [
        "L=[11,12,13,14]\n",
        "del L[:len(L)]\n",
        "print(\"after deleting all the elements of list--> \",L)  "
      ],
      "metadata": {
        "colab": {
          "base_uri": "https://localhost:8080/"
        },
        "id": "esH5GwqgpAQQ",
        "outputId": "d472ae1b-e6ec-461c-a6a8-eef52cfb2033"
      },
      "execution_count": null,
      "outputs": [
        {
          "output_type": "stream",
          "name": "stdout",
          "text": [
            "after deleting all the elements of list-->  []\n"
          ]
        }
      ]
    },
    {
      "cell_type": "markdown",
      "source": [
        "Ans1.12"
      ],
      "metadata": {
        "id": "-bp6yksNqPlE"
      }
    },
    {
      "cell_type": "code",
      "source": [
        "L=[11,12,13,14]\n",
        "del L\n",
        "print(\"list deleted\")"
      ],
      "metadata": {
        "colab": {
          "base_uri": "https://localhost:8080/"
        },
        "id": "7ZXwIasZqRTp",
        "outputId": "51fae076-b36c-4453-dda2-3230748298af"
      },
      "execution_count": null,
      "outputs": [
        {
          "output_type": "stream",
          "name": "stdout",
          "text": [
            "list deleted\n"
          ]
        }
      ]
    },
    {
      "cell_type": "code",
      "source": [
        "# tup=(1,2,3)\n",
        "# li=list(tup)\n",
        "# print(li)"
      ],
      "metadata": {
        "id": "FxkOL3_jXfY3"
      },
      "execution_count": null,
      "outputs": []
    },
    {
      "cell_type": "markdown",
      "source": [
        "## Q2"
      ],
      "metadata": {
        "id": "qE5fH-FLre8M"
      }
    },
    {
      "cell_type": "markdown",
      "source": [
        "Ans2.1"
      ],
      "metadata": {
        "id": "TL83OfStrlla"
      }
    },
    {
      "cell_type": "code",
      "source": [
        "D={1:5.6,2:7.8,3:6.6,4:8.7,5:7.7}\n",
        "d1={8:8.8}\n",
        "D.update(d1)\n",
        "print(D)"
      ],
      "metadata": {
        "colab": {
          "base_uri": "https://localhost:8080/"
        },
        "id": "Tl0mnYJNrnto",
        "outputId": "631cddc1-b3de-401a-bc4e-35c1966d7f2a"
      },
      "execution_count": null,
      "outputs": [
        {
          "output_type": "stream",
          "name": "stdout",
          "text": [
            "{1: 5.6, 2: 7.8, 3: 6.6, 4: 8.7, 5: 7.7, 8: 8.8}\n"
          ]
        }
      ]
    },
    {
      "cell_type": "markdown",
      "source": [
        "Ans2.2"
      ],
      "metadata": {
        "id": "snaAPeq-sPGg"
      }
    },
    {
      "cell_type": "code",
      "source": [
        "D={1:5.6,2:7.8,3:6.6,4:8.7,5:7.7}\n",
        "D.pop(2)\n",
        "print(D)"
      ],
      "metadata": {
        "colab": {
          "base_uri": "https://localhost:8080/"
        },
        "id": "EqqskO5AsUfJ",
        "outputId": "fcc65dcd-2590-4d0e-99f3-e261eda7f285"
      },
      "execution_count": null,
      "outputs": [
        {
          "output_type": "stream",
          "name": "stdout",
          "text": [
            "{1: 5.6, 3: 6.6, 4: 8.7, 5: 7.7}\n"
          ]
        }
      ]
    },
    {
      "cell_type": "markdown",
      "source": [
        "Ans2.3"
      ],
      "metadata": {
        "id": "112CffwJshCO"
      }
    },
    {
      "cell_type": "code",
      "source": [
        "D={1:5.6,2:7.8,3:6.6,4:8.7,5:7.7}\n",
        "if 6 in D.keys():\n",
        "  print(\"yes\")\n",
        "else:\n",
        "  print(\"no\")  "
      ],
      "metadata": {
        "colab": {
          "base_uri": "https://localhost:8080/"
        },
        "id": "XBF5vwm5siom",
        "outputId": "a25c1b90-6901-4540-e322-41c2b629ec0c"
      },
      "execution_count": null,
      "outputs": [
        {
          "output_type": "stream",
          "name": "stdout",
          "text": [
            "no\n"
          ]
        }
      ]
    },
    {
      "cell_type": "markdown",
      "source": [
        "Ans2.4"
      ],
      "metadata": {
        "id": "uxKxbpB9tFL9"
      }
    },
    {
      "cell_type": "code",
      "source": [
        "D={1:5.6,2:7.8,3:6.6,4:8.7,5:7.7}\n",
        "count=0\n",
        "for key in D.keys():\n",
        "  count+=1\n",
        "print(\"total elements =\",count)  "
      ],
      "metadata": {
        "colab": {
          "base_uri": "https://localhost:8080/"
        },
        "id": "h52NjoFotGny",
        "outputId": "dc7129f3-793c-4116-c43c-128dbfa32fac"
      },
      "execution_count": null,
      "outputs": [
        {
          "output_type": "stream",
          "name": "stdout",
          "text": [
            "total elements = 5\n"
          ]
        }
      ]
    },
    {
      "cell_type": "markdown",
      "source": [
        "Ans2.5"
      ],
      "metadata": {
        "id": "acdobfqruVBQ"
      }
    },
    {
      "cell_type": "code",
      "source": [
        "D={1:5.6,2:7.8,3:6.6,4:8.7,5:7.7}\n",
        "sum=0\n",
        "for val in D.values():\n",
        "  sum=sum+val\n",
        "print(\"sum of values= \",sum)  \n"
      ],
      "metadata": {
        "colab": {
          "base_uri": "https://localhost:8080/"
        },
        "id": "rbm0FahnuWtd",
        "outputId": "8f727ae6-ff34-4d4e-f670-0344efbae651"
      },
      "execution_count": null,
      "outputs": [
        {
          "output_type": "stream",
          "name": "stdout",
          "text": [
            "sum of values=  36.4\n"
          ]
        }
      ]
    },
    {
      "cell_type": "markdown",
      "source": [
        "Ans2.6"
      ],
      "metadata": {
        "id": "BvcNZL2eutVw"
      }
    },
    {
      "cell_type": "code",
      "source": [
        "D={1:5.6,2:7.8,3:6.6,4:8.7,5:7.7}\n",
        "D[3]=7.1\n",
        "print(\"updated key 3 : \",D)"
      ],
      "metadata": {
        "colab": {
          "base_uri": "https://localhost:8080/"
        },
        "id": "zD6_bT-huv1k",
        "outputId": "4240cf0a-5e97-437f-f9ba-61ba70206c1e"
      },
      "execution_count": null,
      "outputs": [
        {
          "output_type": "stream",
          "name": "stdout",
          "text": [
            "updated key 3 :  {1: 5.6, 2: 7.8, 3: 7.1, 4: 8.7, 5: 7.7}\n"
          ]
        }
      ]
    },
    {
      "cell_type": "markdown",
      "source": [
        "Ans2.7"
      ],
      "metadata": {
        "id": "pGuMfF6EvMDw"
      }
    },
    {
      "cell_type": "code",
      "source": [
        "D={1:5.6,2:7.8,3:6.6,4:8.7,5:7.7}\n",
        "D.clear()\n",
        "print(\"dictionary cleared : \",D)"
      ],
      "metadata": {
        "colab": {
          "base_uri": "https://localhost:8080/"
        },
        "id": "4nSZ1aCUvOfa",
        "outputId": "cd383281-0bc2-4875-b5a0-cf87a6bfbdfd"
      },
      "execution_count": null,
      "outputs": [
        {
          "output_type": "stream",
          "name": "stdout",
          "text": [
            "dictionary cleared :  {}\n"
          ]
        }
      ]
    },
    {
      "cell_type": "markdown",
      "source": [
        "## Q3"
      ],
      "metadata": {
        "id": "dxtS1pEplLhT"
      }
    },
    {
      "cell_type": "markdown",
      "source": [
        "Ans3.1\n"
      ],
      "metadata": {
        "id": "kI2jEuD-lTLF"
      }
    },
    {
      "cell_type": "code",
      "source": [
        "s1={10,20,30,40,50,60}\n",
        "s2={40,50,60,70,80,90}\n",
        "s3={55,66}\n",
        "s1.update(s3)\n",
        "print(s1)"
      ],
      "metadata": {
        "colab": {
          "base_uri": "https://localhost:8080/"
        },
        "id": "Y2lOuMuNlXy4",
        "outputId": "544592d3-455d-49ca-8c48-e40f84eaded3"
      },
      "execution_count": null,
      "outputs": [
        {
          "output_type": "stream",
          "name": "stdout",
          "text": [
            "{50, 66, 20, 55, 40, 10, 60, 30}\n"
          ]
        }
      ]
    },
    {
      "cell_type": "markdown",
      "source": [
        "Ans3.2"
      ],
      "metadata": {
        "id": "ivG33D4emw6t"
      }
    },
    {
      "cell_type": "code",
      "source": [
        "s1={10,20,30,40,50,60}\n",
        "s1.remove(10)\n",
        "s1.remove(30)\n",
        "print(s1)"
      ],
      "metadata": {
        "colab": {
          "base_uri": "https://localhost:8080/"
        },
        "id": "Q2fj_KDHmywK",
        "outputId": "7581bcd2-e153-44c9-fa5d-911ec90c4e82"
      },
      "execution_count": null,
      "outputs": [
        {
          "output_type": "stream",
          "name": "stdout",
          "text": [
            "{50, 20, 40, 60}\n"
          ]
        }
      ]
    },
    {
      "cell_type": "markdown",
      "source": [
        "Ans3.3"
      ],
      "metadata": {
        "id": "pxh_RiEInEhd"
      }
    },
    {
      "cell_type": "code",
      "source": [
        "s1={10,20,30,40,50,60}\n",
        "if 40 in s1:\n",
        "  print(\"yes\")\n",
        "else:\n",
        "  print(\"no\")  "
      ],
      "metadata": {
        "colab": {
          "base_uri": "https://localhost:8080/"
        },
        "id": "Y_itWDh9nGMP",
        "outputId": "9a81a451-3e76-4b07-a401-2956c6066a89"
      },
      "execution_count": null,
      "outputs": [
        {
          "output_type": "stream",
          "name": "stdout",
          "text": [
            "yes\n"
          ]
        }
      ]
    },
    {
      "cell_type": "markdown",
      "source": [
        "Ans3.4"
      ],
      "metadata": {
        "id": "VMkvHlpynrwW"
      }
    },
    {
      "cell_type": "code",
      "source": [
        "s1={10,20,30,40,50,60}\n",
        "s2={40,50,60,70,80,90}\n",
        "s1=s1.union(s2)\n",
        "print(\"union:\",s1)"
      ],
      "metadata": {
        "colab": {
          "base_uri": "https://localhost:8080/"
        },
        "id": "ZOkMZy9KntYM",
        "outputId": "03252351-b9b4-4a1c-ca6d-47c771ef959d"
      },
      "execution_count": null,
      "outputs": [
        {
          "output_type": "stream",
          "name": "stdout",
          "text": [
            "union: {70, 40, 10, 80, 50, 20, 90, 60, 30}\n"
          ]
        }
      ]
    },
    {
      "cell_type": "markdown",
      "source": [
        "Ans3.5"
      ],
      "metadata": {
        "id": "eEoJgcRln7h3"
      }
    },
    {
      "cell_type": "code",
      "source": [
        "s1={10,20,30,40,50,60}\n",
        "s2={40,50,60,70,80,90}\n",
        "s3=s1.intersection(s2)\n",
        "print(\"intersection: \",s3)"
      ],
      "metadata": {
        "colab": {
          "base_uri": "https://localhost:8080/"
        },
        "id": "yQM6nvKFn9QV",
        "outputId": "ff05c8e5-f6cb-42fd-f73e-bd8f07a22773"
      },
      "execution_count": null,
      "outputs": [
        {
          "output_type": "stream",
          "name": "stdout",
          "text": [
            "intersection:  {40, 50, 60}\n"
          ]
        }
      ]
    },
    {
      "cell_type": "markdown",
      "source": [
        "Ans3.6"
      ],
      "metadata": {
        "id": "YSifbrQ5oTmU"
      }
    },
    {
      "cell_type": "code",
      "source": [
        "s1={10,20,30,40,50,60}\n",
        "s2={40,50,60,70,80,90}\n",
        "s3=s1.difference(s2)\n",
        "print(\"difference: \",s3)"
      ],
      "metadata": {
        "colab": {
          "base_uri": "https://localhost:8080/"
        },
        "id": "KyAC7hQkoVF7",
        "outputId": "49e0038b-f0f3-410d-9920-9d2942b9d962"
      },
      "execution_count": null,
      "outputs": [
        {
          "output_type": "stream",
          "name": "stdout",
          "text": [
            "difference:  {10, 20, 30}\n"
          ]
        }
      ]
    },
    {
      "cell_type": "markdown",
      "source": [
        "## Q4"
      ],
      "metadata": {
        "id": "RPXFA2BDwcBN"
      }
    },
    {
      "cell_type": "markdown",
      "source": [
        "Ans4.1"
      ],
      "metadata": {
        "id": "fDfHlAOJwfF7"
      }
    },
    {
      "cell_type": "code",
      "source": [
        "import string as s\n",
        "import random as r\n",
        "for i in range(1,101):\n",
        "  k=r.randint(6,8)\n",
        "  st=r.sample(s.ascii_letters,k)\n",
        "  strin=\"\".join(st)\n",
        "  print(f\" string {i} is {strin}\")\n",
        "\n",
        "\n"
      ],
      "metadata": {
        "colab": {
          "base_uri": "https://localhost:8080/"
        },
        "id": "AD5aHNnIwgtX",
        "outputId": "b3c8b178-eda3-48d4-dc3f-c93e20e1c8f4"
      },
      "execution_count": null,
      "outputs": [
        {
          "output_type": "stream",
          "name": "stdout",
          "text": [
            " string 1 is VREpzqbA\n",
            " string 2 is lHsXKTf\n",
            " string 3 is aGFtus\n",
            " string 4 is bORjlU\n",
            " string 5 is qOZkAp\n",
            " string 6 is ywUjlKv\n",
            " string 7 is alpTUKdy\n",
            " string 8 is bNxYRh\n",
            " string 9 is WfoLuzQ\n",
            " string 10 is WPoncK\n",
            " string 11 is WoVyGhN\n",
            " string 12 is nQglmfqX\n",
            " string 13 is PXzdrmHC\n",
            " string 14 is NobeMf\n",
            " string 15 is rAVBxI\n",
            " string 16 is NHxElrY\n",
            " string 17 is lDeorFR\n",
            " string 18 is DzdBtmfW\n",
            " string 19 is uhNkxZKG\n",
            " string 20 is RsbBofN\n",
            " string 21 is lPfQmb\n",
            " string 22 is cHouXed\n",
            " string 23 is QhfYJqGk\n",
            " string 24 is SMFqan\n",
            " string 25 is ghjieT\n",
            " string 26 is Zstiao\n",
            " string 27 is ZRkfJAy\n",
            " string 28 is PQaNUv\n",
            " string 29 is nygZjr\n",
            " string 30 is AoGseRJL\n",
            " string 31 is ZBSQvIA\n",
            " string 32 is jCsOykGx\n",
            " string 33 is lCPOEf\n",
            " string 34 is BMAoJn\n",
            " string 35 is DUYPob\n",
            " string 36 is gvcpIHw\n",
            " string 37 is OguojMYa\n",
            " string 38 is plnWfs\n",
            " string 39 is PLiRSXu\n",
            " string 40 is mCBafY\n",
            " string 41 is uyqvbX\n",
            " string 42 is BMAXrEhk\n",
            " string 43 is gWxkpdfJ\n",
            " string 44 is bPfhXM\n",
            " string 45 is oprcEOs\n",
            " string 46 is WjuqEG\n",
            " string 47 is DXnLkCjt\n",
            " string 48 is xqwFSi\n",
            " string 49 is jpRdsX\n",
            " string 50 is uKbGdpJ\n",
            " string 51 is ebPxBpWF\n",
            " string 52 is WQHAwE\n",
            " string 53 is YurTida\n",
            " string 54 is gRQFzvi\n",
            " string 55 is RqPVWM\n",
            " string 56 is hfojAT\n",
            " string 57 is rUjtJlhS\n",
            " string 58 is HWnaoJ\n",
            " string 59 is byQwXoa\n",
            " string 60 is umhKIop\n",
            " string 61 is OcpUDgeh\n",
            " string 62 is CJKiZlfe\n",
            " string 63 is uaBDkfxj\n",
            " string 64 is NazBnpG\n",
            " string 65 is XAxrsR\n",
            " string 66 is hxDobK\n",
            " string 67 is hsgaSW\n",
            " string 68 is ATNSGF\n",
            " string 69 is kRLtZaB\n",
            " string 70 is RJczToN\n",
            " string 71 is wqhxIka\n",
            " string 72 is pGhdoZu\n",
            " string 73 is EJsXNjyb\n",
            " string 74 is lXQjoaRb\n",
            " string 75 is EyIDTlgF\n",
            " string 76 is QLvXGjb\n",
            " string 77 is KsBgXEL\n",
            " string 78 is FgbmJnZ\n",
            " string 79 is rxjwYv\n",
            " string 80 is WNEBsD\n",
            " string 81 is luWOLP\n",
            " string 82 is TLeOizC\n",
            " string 83 is wfPTVa\n",
            " string 84 is OQnKeqU\n",
            " string 85 is rZuCfUkV\n",
            " string 86 is BjOdJo\n",
            " string 87 is kCvKzAt\n",
            " string 88 is LBkzRxo\n",
            " string 89 is tASVxznU\n",
            " string 90 is ToYaKGM\n",
            " string 91 is kIYdNWpr\n",
            " string 92 is PntRVdS\n",
            " string 93 is OgMtVFS\n",
            " string 94 is kTfiucZU\n",
            " string 95 is wXDxGQRJ\n",
            " string 96 is wLPfsFM\n",
            " string 97 is rQRoXbju\n",
            " string 98 is vTHQpN\n",
            " string 99 is QhCZAxt\n",
            " string 100 is NPspmC\n"
          ]
        }
      ]
    },
    {
      "cell_type": "markdown",
      "source": [
        "Ans4.2"
      ],
      "metadata": {
        "id": "2D7YZ5aH1rrX"
      }
    },
    {
      "cell_type": "code",
      "source": [
        "def isprime(a):\n",
        " count=0\n",
        " for i in range(1,a+1):\n",
        "   if(a%i==0):\n",
        "     count+=1\n",
        " if(count==2):\n",
        "    print(a)\n",
        "print(\"printing all the prime numbers between 600 and 800\")  \n",
        "for j in range(600,801):\n",
        "  isprime(j)\n",
        "     \n",
        "\n"
      ],
      "metadata": {
        "colab": {
          "base_uri": "https://localhost:8080/"
        },
        "id": "0Ddv44yi1vNK",
        "outputId": "2a17aa47-81ee-41d2-f3f5-9bdf6d161375"
      },
      "execution_count": null,
      "outputs": [
        {
          "output_type": "stream",
          "name": "stdout",
          "text": [
            "printing all the prime numbers between 600 and 800\n",
            "601\n",
            "607\n",
            "613\n",
            "617\n",
            "619\n",
            "631\n",
            "641\n",
            "643\n",
            "647\n",
            "653\n",
            "659\n",
            "661\n",
            "673\n",
            "677\n",
            "683\n",
            "691\n",
            "701\n",
            "709\n",
            "719\n",
            "727\n",
            "733\n",
            "739\n",
            "743\n",
            "751\n",
            "757\n",
            "761\n",
            "769\n",
            "773\n",
            "787\n",
            "797\n"
          ]
        }
      ]
    },
    {
      "cell_type": "markdown",
      "source": [
        "Ans4.3"
      ],
      "metadata": {
        "id": "u7jQ_U4B5BfH"
      }
    },
    {
      "cell_type": "code",
      "source": [
        "def chk(a):\n",
        "  if(a%7==0 and a%9==0):\n",
        "    print(a)\n",
        "for i in range(100,1001):\n",
        "  chk(i)    "
      ],
      "metadata": {
        "colab": {
          "base_uri": "https://localhost:8080/"
        },
        "id": "5hMrOabP5DUo",
        "outputId": "85aec928-b9d8-4584-da33-fe8655d2b86c"
      },
      "execution_count": null,
      "outputs": [
        {
          "output_type": "stream",
          "name": "stdout",
          "text": [
            "126\n",
            "189\n",
            "252\n",
            "315\n",
            "378\n",
            "441\n",
            "504\n",
            "567\n",
            "630\n",
            "693\n",
            "756\n",
            "819\n",
            "882\n",
            "945\n"
          ]
        }
      ]
    },
    {
      "cell_type": "markdown",
      "source": [
        "## Q5"
      ],
      "metadata": {
        "id": "e6c2GWc355JH"
      }
    },
    {
      "cell_type": "code",
      "source": [
        "import random as r\n",
        "def genlist(start,end,num):\n",
        "  l=[]\n",
        "  for j in range(num):\n",
        "    l.append(r.randint(start,end))\n",
        "  return l \n",
        "L1=genlist(10,30,10)   \n",
        "L2=genlist(10,30,10)\n",
        "print(L1)\n",
        "print(L2)\n",
        "\n",
        "\n",
        "\n",
        "\n",
        "\n",
        " \n",
        "\n",
        "\n"
      ],
      "metadata": {
        "colab": {
          "base_uri": "https://localhost:8080/"
        },
        "id": "EjXqoYI96CmE",
        "outputId": "8d74329c-5717-4976-f814-ca3c84954c94"
      },
      "execution_count": 18,
      "outputs": [
        {
          "output_type": "stream",
          "name": "stdout",
          "text": [
            "[25, 24, 12, 23, 25, 22, 28, 23, 30, 28]\n",
            "[23, 13, 30, 27, 29, 12, 24, 24, 25, 12]\n"
          ]
        }
      ]
    },
    {
      "cell_type": "markdown",
      "source": [
        "Ans5.1"
      ],
      "metadata": {
        "id": "F63QFjnL2NZ0"
      }
    },
    {
      "cell_type": "code",
      "source": [
        "s1=set(L1)\n",
        "s2=set(L2)\n",
        "print(\"common numbers between the two lists are : \",s1.intersection(s2))"
      ],
      "metadata": {
        "colab": {
          "base_uri": "https://localhost:8080/"
        },
        "id": "QvQJQq2c2PC7",
        "outputId": "b152c883-d3fd-4340-f58a-1e9cb9461907"
      },
      "execution_count": 20,
      "outputs": [
        {
          "output_type": "stream",
          "name": "stdout",
          "text": [
            "common numbers between the two lists are :  {12, 23, 24, 25, 30}\n"
          ]
        }
      ]
    },
    {
      "cell_type": "markdown",
      "source": [
        "Ans5.2"
      ],
      "metadata": {
        "id": "T5sEVPSz3UV3"
      }
    },
    {
      "cell_type": "code",
      "source": [
        "print(s1)\n",
        "print(s2)"
      ],
      "metadata": {
        "colab": {
          "base_uri": "https://localhost:8080/"
        },
        "id": "OLAqEiDy3WFD",
        "outputId": "14938fce-08ec-47df-9a18-8fd3d0d45168"
      },
      "execution_count": 21,
      "outputs": [
        {
          "output_type": "stream",
          "name": "stdout",
          "text": [
            "{12, 22, 23, 24, 25, 28, 30}\n",
            "{12, 13, 23, 24, 25, 27, 29, 30}\n"
          ]
        }
      ]
    },
    {
      "cell_type": "markdown",
      "source": [
        "Ans5.3"
      ],
      "metadata": {
        "id": "065It8oT4OBz"
      }
    },
    {
      "cell_type": "code",
      "source": [
        "print(\"MIN IN LIST 1 IS : \",min(L1))\n",
        "print(\"min in list 2 is : \",min(L2))"
      ],
      "metadata": {
        "colab": {
          "base_uri": "https://localhost:8080/"
        },
        "id": "xw26-F2H4Q7p",
        "outputId": "734a7a43-6735-4019-9efd-1c4fda95bc71"
      },
      "execution_count": 24,
      "outputs": [
        {
          "output_type": "stream",
          "name": "stdout",
          "text": [
            "MIN IN LIST 1 IS :  12\n",
            "min in list 2 is :  12\n"
          ]
        }
      ]
    },
    {
      "cell_type": "markdown",
      "source": [
        "Ans5.4"
      ],
      "metadata": {
        "id": "cZkG_S9345NE"
      }
    },
    {
      "cell_type": "code",
      "source": [
        "print(\"max in list 1 is : \",max(L1))\n",
        "print(\"max in list 2 is : \",max(L2))"
      ],
      "metadata": {
        "colab": {
          "base_uri": "https://localhost:8080/"
        },
        "id": "9HZKMpYq47HF",
        "outputId": "6dd7e629-d7b7-4e26-84da-81fadb1159ae"
      },
      "execution_count": 25,
      "outputs": [
        {
          "output_type": "stream",
          "name": "stdout",
          "text": [
            "max in list 1 is :  30\n",
            "max in list 2 is :  30\n"
          ]
        }
      ]
    },
    {
      "cell_type": "markdown",
      "source": [
        "Ans5.5"
      ],
      "metadata": {
        "id": "Doo-GPLI5NxP"
      }
    },
    {
      "cell_type": "code",
      "source": [
        "print(\"sum of both the list L1 is : \",sum(L1))\n",
        "print(\"sum of both the list L2 is : \",sum(L2))\n"
      ],
      "metadata": {
        "colab": {
          "base_uri": "https://localhost:8080/"
        },
        "id": "Mt2mB3mN5Pk4",
        "outputId": "4588a3ab-d74e-42c5-fbf1-6739fd5c1e5f"
      },
      "execution_count": 30,
      "outputs": [
        {
          "output_type": "stream",
          "name": "stdout",
          "text": [
            "sum of both the list L1 is :  240\n",
            "sum of both the list L2 is :  219\n"
          ]
        }
      ]
    },
    {
      "cell_type": "markdown",
      "source": [
        "## Q6"
      ],
      "metadata": {
        "id": "ZCK84rVN5_rj"
      }
    },
    {
      "cell_type": "code",
      "source": [
        "import random as r\n",
        "p=[]\n",
        "for j in range(100):\n",
        "  p.append(r.randint(100,900))\n",
        "print(p)  "
      ],
      "metadata": {
        "colab": {
          "base_uri": "https://localhost:8080/"
        },
        "id": "WOJMXehg6COO",
        "outputId": "d7d5dc15-6b48-4682-902c-87bdc9e82d73"
      },
      "execution_count": 55,
      "outputs": [
        {
          "output_type": "stream",
          "name": "stdout",
          "text": [
            "[237, 110, 818, 463, 521, 468, 385, 148, 552, 778, 818, 157, 618, 895, 822, 432, 166, 726, 512, 151, 744, 821, 782, 637, 434, 678, 102, 230, 853, 695, 231, 541, 702, 148, 712, 781, 595, 568, 363, 574, 268, 589, 711, 645, 456, 432, 459, 482, 562, 741, 587, 653, 655, 328, 312, 774, 885, 611, 688, 551, 621, 689, 724, 841, 413, 714, 752, 731, 328, 623, 477, 637, 723, 896, 212, 315, 419, 166, 213, 282, 122, 200, 595, 272, 840, 510, 629, 243, 445, 511, 476, 720, 146, 807, 251, 807, 299, 355, 172, 404]\n"
          ]
        }
      ]
    },
    {
      "cell_type": "markdown",
      "source": [
        "Ans6.1"
      ],
      "metadata": {
        "id": "Xortt6i56tsJ"
      }
    },
    {
      "cell_type": "code",
      "source": [
        "# print(p)\n",
        "count=0\n",
        "for j in p:\n",
        "  if(j%2!=0):\n",
        "    count+=1\n",
        "    print(j)\n",
        "print(\"total odd numbers in the list are : \",count)    \n"
      ],
      "metadata": {
        "colab": {
          "base_uri": "https://localhost:8080/"
        },
        "id": "yLWcibF96vMK",
        "outputId": "e0f7f8dd-575b-46bf-bd4b-9e1ec28dbe99"
      },
      "execution_count": 60,
      "outputs": [
        {
          "output_type": "stream",
          "name": "stdout",
          "text": [
            "237\n",
            "463\n",
            "521\n",
            "385\n",
            "157\n",
            "895\n",
            "151\n",
            "821\n",
            "637\n",
            "853\n",
            "695\n",
            "231\n",
            "541\n",
            "781\n",
            "595\n",
            "363\n",
            "589\n",
            "711\n",
            "645\n",
            "459\n",
            "741\n",
            "587\n",
            "653\n",
            "655\n",
            "885\n",
            "611\n",
            "551\n",
            "621\n",
            "689\n",
            "841\n",
            "413\n",
            "731\n",
            "623\n",
            "477\n",
            "637\n",
            "723\n",
            "315\n",
            "419\n",
            "213\n",
            "595\n",
            "629\n",
            "243\n",
            "445\n",
            "511\n",
            "807\n",
            "251\n",
            "807\n",
            "299\n",
            "355\n",
            "total odd numbers in the list are :  49\n"
          ]
        }
      ]
    },
    {
      "cell_type": "markdown",
      "source": [
        "Ans6.2"
      ],
      "metadata": {
        "id": "kaKtnXrPWL8O"
      }
    },
    {
      "cell_type": "code",
      "source": [
        "print(p)\n",
        "count=0\n",
        "for j in p:\n",
        "  if(j%2==0):\n",
        "    count+=1\n",
        "    print(j)\n",
        "print(\"total even numbers in the list are : \",count)    \n"
      ],
      "metadata": {
        "colab": {
          "base_uri": "https://localhost:8080/"
        },
        "id": "2Np42b30WOAN",
        "outputId": "761142b8-a92c-4abe-8db4-d3de97685434"
      },
      "execution_count": 62,
      "outputs": [
        {
          "output_type": "stream",
          "name": "stdout",
          "text": [
            "[237, 110, 818, 463, 521, 468, 385, 148, 552, 778, 818, 157, 618, 895, 822, 432, 166, 726, 512, 151, 744, 821, 782, 637, 434, 678, 102, 230, 853, 695, 231, 541, 702, 148, 712, 781, 595, 568, 363, 574, 268, 589, 711, 645, 456, 432, 459, 482, 562, 741, 587, 653, 655, 328, 312, 774, 885, 611, 688, 551, 621, 689, 724, 841, 413, 714, 752, 731, 328, 623, 477, 637, 723, 896, 212, 315, 419, 166, 213, 282, 122, 200, 595, 272, 840, 510, 629, 243, 445, 511, 476, 720, 146, 807, 251, 807, 299, 355, 172, 404]\n",
            "110\n",
            "818\n",
            "468\n",
            "148\n",
            "552\n",
            "778\n",
            "818\n",
            "618\n",
            "822\n",
            "432\n",
            "166\n",
            "726\n",
            "512\n",
            "744\n",
            "782\n",
            "434\n",
            "678\n",
            "102\n",
            "230\n",
            "702\n",
            "148\n",
            "712\n",
            "568\n",
            "574\n",
            "268\n",
            "456\n",
            "432\n",
            "482\n",
            "562\n",
            "328\n",
            "312\n",
            "774\n",
            "688\n",
            "724\n",
            "714\n",
            "752\n",
            "328\n",
            "896\n",
            "212\n",
            "166\n",
            "282\n",
            "122\n",
            "200\n",
            "272\n",
            "840\n",
            "510\n",
            "476\n",
            "720\n",
            "146\n",
            "172\n",
            "404\n",
            "total even numbers in the list are :  51\n"
          ]
        }
      ]
    },
    {
      "cell_type": "markdown",
      "source": [
        "Ans6.3"
      ],
      "metadata": {
        "id": "KYdMb-4jWrFd"
      }
    },
    {
      "cell_type": "code",
      "source": [
        "sum=0\n",
        "for j in p:\n",
        "  count=0\n",
        "  for i in range(1,j+1):\n",
        "    if(j%i==0):\n",
        "      count+=1\n",
        "  if(count==2):\n",
        "    print(j)\n",
        "    sum=sum+j\n",
        "print(\"sum of all the prime numbers in the list is : \",sum)    \n",
        "\n"
      ],
      "metadata": {
        "colab": {
          "base_uri": "https://localhost:8080/"
        },
        "id": "7EejzKAFWsmv",
        "outputId": "ff3637e4-bc39-4d96-9451-5129d2ea5ad7"
      },
      "execution_count": 64,
      "outputs": [
        {
          "output_type": "stream",
          "name": "stdout",
          "text": [
            "463\n",
            "521\n",
            "157\n",
            "151\n",
            "821\n",
            "853\n",
            "541\n",
            "587\n",
            "653\n",
            "419\n",
            "251\n",
            "sum of all the prime numbers in the list is :  5417\n"
          ]
        }
      ]
    },
    {
      "cell_type": "markdown",
      "source": [
        "### Q7"
      ],
      "metadata": {
        "id": "rNbleqFKZkDW"
      }
    },
    {
      "cell_type": "code",
      "source": [],
      "metadata": {
        "id": "fvC6uACVZncc"
      },
      "execution_count": null,
      "outputs": []
    },
    {
      "cell_type": "markdown",
      "source": [
        "### Q8"
      ],
      "metadata": {
        "id": "GN9hfmWxbVFm"
      }
    },
    {
      "cell_type": "code",
      "source": [],
      "metadata": {
        "id": "CsqFarqXbXPO"
      },
      "execution_count": null,
      "outputs": []
    },
    {
      "cell_type": "markdown",
      "source": [
        "### Q9"
      ],
      "metadata": {
        "id": "4SViSLASbXvE"
      }
    },
    {
      "cell_type": "code",
      "source": [],
      "metadata": {
        "id": "wcCaDgHsbaZI"
      },
      "execution_count": null,
      "outputs": []
    },
    {
      "cell_type": "markdown",
      "source": [
        "### Q11"
      ],
      "metadata": {
        "id": "koToMGAteRTB"
      }
    },
    {
      "cell_type": "code",
      "source": [
        "\n",
        "import timeit\n",
        " \n",
        "startTime = timeit.default_timer()\n",
        " \n",
        "for _ in range(100):\n",
        "    print(_)\n",
        " \n",
        "endTime = timeit.default_timer()\n",
        " \n",
        "print(endTime - startTime)"
      ],
      "metadata": {
        "colab": {
          "base_uri": "https://localhost:8080/"
        },
        "id": "4uwwSEo8eTQc",
        "outputId": "d5394a89-f5de-40a0-8692-58f36123d265"
      },
      "execution_count": 66,
      "outputs": [
        {
          "output_type": "stream",
          "name": "stdout",
          "text": [
            "0\n",
            "1\n",
            "2\n",
            "3\n",
            "4\n",
            "5\n",
            "6\n",
            "7\n",
            "8\n",
            "9\n",
            "10\n",
            "11\n",
            "12\n",
            "13\n",
            "14\n",
            "15\n",
            "16\n",
            "17\n",
            "18\n",
            "19\n",
            "20\n",
            "21\n",
            "22\n",
            "23\n",
            "24\n",
            "25\n",
            "26\n",
            "27\n",
            "28\n",
            "29\n",
            "30\n",
            "31\n",
            "32\n",
            "33\n",
            "34\n",
            "35\n",
            "36\n",
            "37\n",
            "38\n",
            "39\n",
            "40\n",
            "41\n",
            "42\n",
            "43\n",
            "44\n",
            "45\n",
            "46\n",
            "47\n",
            "48\n",
            "49\n",
            "50\n",
            "51\n",
            "52\n",
            "53\n",
            "54\n",
            "55\n",
            "56\n",
            "57\n",
            "58\n",
            "59\n",
            "60\n",
            "61\n",
            "62\n",
            "63\n",
            "64\n",
            "65\n",
            "66\n",
            "67\n",
            "68\n",
            "69\n",
            "70\n",
            "71\n",
            "72\n",
            "73\n",
            "74\n",
            "75\n",
            "76\n",
            "77\n",
            "78\n",
            "79\n",
            "80\n",
            "81\n",
            "82\n",
            "83\n",
            "84\n",
            "85\n",
            "86\n",
            "87\n",
            "88\n",
            "89\n",
            "90\n",
            "91\n",
            "92\n",
            "93\n",
            "94\n",
            "95\n",
            "96\n",
            "97\n",
            "98\n",
            "99\n",
            "0.015563103999738814\n"
          ]
        }
      ]
    },
    {
      "cell_type": "markdown",
      "source": [],
      "metadata": {
        "id": "3B90-xv657JM"
      }
    },
    {
      "cell_type": "markdown",
      "source": [],
      "metadata": {
        "id": "ztq2GoJulPcn"
      }
    }
  ]
}